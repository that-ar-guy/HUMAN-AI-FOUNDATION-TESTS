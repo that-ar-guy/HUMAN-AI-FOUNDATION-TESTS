{
 "cells": [
  {
   "cell_type": "markdown",
   "id": "621007df-3c19-4113-a222-7f6fe71bcf30",
   "metadata": {},
   "source": [
    "# Reddit Post Extractor"
   ]
  },
  {
   "cell_type": "markdown",
   "id": "bc0669ed-4c6a-4529-a71e-dd22df607aad",
   "metadata": {},
   "source": [
    "This Python script extracts Reddit posts related to mental health distress, substance use, or suicidality from relevant subreddits. It applies a predefined list of keywords to filter posts, cleans the text, and saves the results in a structured CSV file."
   ]
  },
  {
   "cell_type": "code",
   "execution_count": 1,
   "id": "22de6b76-4140-43f9-87db-3d46ee32ddad",
   "metadata": {},
   "outputs": [],
   "source": [
    "import pandas as pd\n",
    "import requests\n",
    "import os\n",
    "import re\n",
    "import emoji\n",
    "import nltk\n",
    "from dotenv import load_dotenv\n",
    "from nltk.corpus import stopwords"
   ]
  },
  {
   "cell_type": "code",
   "execution_count": 2,
   "id": "42293757",
   "metadata": {},
   "outputs": [
    {
     "data": {
      "text/plain": [
       "True"
      ]
     },
     "execution_count": 2,
     "metadata": {},
     "output_type": "execute_result"
    }
   ],
   "source": [
    "# Load environment variables\n",
    "load_dotenv()"
   ]
  },
  {
   "cell_type": "code",
   "execution_count": 8,
   "id": "8688c2a3-fe49-4fbf-84fe-31b58cfcd67b",
   "metadata": {},
   "outputs": [
    {
     "name": "stderr",
     "output_type": "stream",
     "text": [
      "[nltk_data] Downloading package stopwords to\n",
      "[nltk_data]     C:\\Users\\mohda\\AppData\\Roaming\\nltk_data...\n",
      "[nltk_data]   Package stopwords is already up-to-date!\n"
     ]
    }
   ],
   "source": [
    "nltk.download('stopwords')\n",
    "stop_words = set(stopwords.words('english'))"
   ]
  },
  {
   "cell_type": "code",
   "execution_count": 3,
   "id": "338f5c37-d311-4b00-bf01-f15fed1b9df3",
   "metadata": {},
   "outputs": [],
   "source": [
    "# API credentials from .env\n",
    "api_auth = {\n",
    "    \"access_token\": os.getenv(\"REDDIT_ACCESS_TOKEN\"),\n",
    "    \"user_agent\": \"MYAPI/0.0.1\"\n",
    "}\n"
   ]
  },
  {
   "cell_type": "code",
   "execution_count": 4,
   "id": "e33af88a-7e87-4920-9e88-5d0dc19b8cad",
   "metadata": {},
   "outputs": [],
   "source": [
    "keywords = [\n",
    "    \"depressed\", \"suicidal\", \"addiction help\", \"overwhelmed\", \"mental health\",\n",
    "    \"anxiety\", \"panic attack\", \"stress\", \"bipolar disorder\", \"OCD\",\n",
    "    \"PTSD\", \"burnout\", \"self harm\", \"loneliness\", \"grief\"\n",
    "]"
   ]
  },
  {
   "cell_type": "code",
   "execution_count": 5,
   "id": "58ba90d2-5063-4a7a-b39f-07124e8be2aa",
   "metadata": {},
   "outputs": [],
   "source": [
    "def clean_text(text):\n",
    "    text = text.lower()\n",
    "    text = re.sub(r'http\\S+', '', text)  # Remove URLs\n",
    "    text = emoji.replace_emoji(text, replace='')  # Remove emojis\n",
    "    text = re.sub(r'[^a-zA-Z0-9\\s]', '', text)  # Remove special characters\n",
    "    text = ' '.join(word for word in text.split() if word not in stop_words)  # Remove stopwords\n",
    "    return text"
   ]
  },
  {
   "cell_type": "code",
   "execution_count": null,
   "id": "2d0015d4",
   "metadata": {},
   "outputs": [],
   "source": [
    "def get_filtered_reddit_posts():\n",
    "    headers = {\n",
    "        \"Authorization\": f\"bearer {api_auth['access_token']}\",\n",
    "        \"User-Agent\": api_auth['user_agent']\n",
    "    }\n",
    "    subreddits = [\"depression\", \"anxiety\", \"mentalhealth\", \"SuicideWatch\", \"addiction\", \"selfharm\"]\n",
    "    filtered_posts = []\n",
    "    \n",
    "    for subreddit in subreddits:\n",
    "        url = f\"https://oauth.reddit.com/r/{subreddit}/new\"\n",
    "        response = requests.get(url, headers=headers, params={\"limit\": 100})\n",
    "        \n",
    "        if response.status_code == 200:\n",
    "            for post in response.json()[\"data\"][\"children\"]:\n",
    "                post_text = post[\"data\"][\"title\"] + \" \" + post[\"data\"].get(\"selftext\", \"\")\n",
    "                cleaned_text = clean_text(post_text)\n",
    "                \n",
    "                if any(keyword in cleaned_text for keyword in keywords):\n",
    "                    filtered_posts.append({\n",
    "                        \"post_id\": post[\"data\"][\"id\"],\n",
    "                        \"timestamp\": post[\"data\"][\"created_utc\"],\n",
    "                        \"content\": cleaned_text,\n",
    "                        \"likes\": post[\"data\"][\"ups\"],\n",
    "                        \"comments\": post[\"data\"][\"num_comments\"],\n",
    "                        \"shares\": 0  # Reddit does not have direct \"shares\" still i included it incase we need to merge it with other social media posts which may have shares count\n",
    "                    })\n",
    "    \n",
    "    df = pd.DataFrame(filtered_posts)\n",
    "    df.to_csv(\"reddit_posts.csv\", index=False)\n"
   ]
  },
  {
   "cell_type": "code",
   "execution_count": 9,
   "id": "fc090804-b17d-42ea-be65-a92e8b84d733",
   "metadata": {},
   "outputs": [],
   "source": [
    "\n",
    "# Run the function\n",
    "get_filtered_reddit_posts()\n"
   ]
  },
  {
   "cell_type": "code",
   "execution_count": null,
   "id": "72a6b39c-3e55-453d-ad3a-052112118e99",
   "metadata": {},
   "outputs": [],
   "source": []
  }
 ],
 "metadata": {
  "kernelspec": {
   "display_name": "Python 3",
   "language": "python",
   "name": "python3"
  },
  "language_info": {
   "codemirror_mode": {
    "name": "ipython",
    "version": 3
   },
   "file_extension": ".py",
   "mimetype": "text/x-python",
   "name": "python",
   "nbconvert_exporter": "python",
   "pygments_lexer": "ipython3",
   "version": "3.11.1"
  }
 },
 "nbformat": 4,
 "nbformat_minor": 5
}
